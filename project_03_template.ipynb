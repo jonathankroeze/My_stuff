{
 "cells": [
  {
   "cell_type": "markdown",
   "metadata": {},
   "source": [
    "# STAT 207 Project 03 - INSERT TITLE HERE\n",
    "\n",
    "YOUR NAMES"
   ]
  },
  {
   "cell_type": "markdown",
   "metadata": {},
   "source": [
    "## 1. Introduction"
   ]
  },
  {
   "cell_type": "code",
   "execution_count": 100,
   "metadata": {},
   "outputs": [],
   "source": [
    "import pandas as pd\n",
    "import matplotlib.pyplot as plt\n",
    "import seaborn as sns; sns.set()\n",
    "import statsmodels.formula.api as smf\n",
    "import statsmodels.api as sm\n",
    "import pylab as py\n",
    "from sklearn.model_selection import train_test_split\n",
    "from sklearn.linear_model import LinearRegression\n",
    "import numpy as np\n",
    "from math import sqrt\n",
    "from sklearn.metrics import confusion_matrix\n",
    "from sklearn.metrics import roc_auc_score\n",
    "from scipy.stats import logistic\n",
    "import math"
   ]
  },
  {
   "cell_type": "code",
   "execution_count": 101,
   "metadata": {},
   "outputs": [
    {
     "data": {
      "text/html": [
       "<div>\n",
       "<style scoped>\n",
       "    .dataframe tbody tr th:only-of-type {\n",
       "        vertical-align: middle;\n",
       "    }\n",
       "\n",
       "    .dataframe tbody tr th {\n",
       "        vertical-align: top;\n",
       "    }\n",
       "\n",
       "    .dataframe thead th {\n",
       "        text-align: right;\n",
       "    }\n",
       "</style>\n",
       "<table border=\"1\" class=\"dataframe\">\n",
       "  <thead>\n",
       "    <tr style=\"text-align: right;\">\n",
       "      <th></th>\n",
       "      <th>Make</th>\n",
       "      <th>Model</th>\n",
       "      <th>Price</th>\n",
       "      <th>Year</th>\n",
       "      <th>Kilometer</th>\n",
       "      <th>Fuel Type</th>\n",
       "      <th>Transmission</th>\n",
       "      <th>Location</th>\n",
       "      <th>Color</th>\n",
       "      <th>Owner</th>\n",
       "      <th>Seller Type</th>\n",
       "      <th>Engine</th>\n",
       "      <th>Max Power</th>\n",
       "      <th>Max Torque</th>\n",
       "      <th>Drivetrain</th>\n",
       "      <th>Length</th>\n",
       "      <th>Width</th>\n",
       "      <th>Height</th>\n",
       "      <th>Seating Capacity</th>\n",
       "      <th>Fuel Tank Capacity</th>\n",
       "    </tr>\n",
       "  </thead>\n",
       "  <tbody>\n",
       "    <tr>\n",
       "      <th>0</th>\n",
       "      <td>Honda</td>\n",
       "      <td>Amaze 1.2 VX i-VTEC</td>\n",
       "      <td>505000</td>\n",
       "      <td>2017</td>\n",
       "      <td>87150</td>\n",
       "      <td>Petrol</td>\n",
       "      <td>Manual</td>\n",
       "      <td>Pune</td>\n",
       "      <td>Grey</td>\n",
       "      <td>First</td>\n",
       "      <td>Corporate</td>\n",
       "      <td>1198 cc</td>\n",
       "      <td>87 bhp @ 6000 rpm</td>\n",
       "      <td>109 Nm @ 4500 rpm</td>\n",
       "      <td>FWD</td>\n",
       "      <td>3990.0</td>\n",
       "      <td>1680.0</td>\n",
       "      <td>1505.0</td>\n",
       "      <td>5.0</td>\n",
       "      <td>35.0</td>\n",
       "    </tr>\n",
       "    <tr>\n",
       "      <th>1</th>\n",
       "      <td>Maruti Suzuki</td>\n",
       "      <td>Swift DZire VDI</td>\n",
       "      <td>450000</td>\n",
       "      <td>2014</td>\n",
       "      <td>75000</td>\n",
       "      <td>Diesel</td>\n",
       "      <td>Manual</td>\n",
       "      <td>Ludhiana</td>\n",
       "      <td>White</td>\n",
       "      <td>Second</td>\n",
       "      <td>Individual</td>\n",
       "      <td>1248 cc</td>\n",
       "      <td>74 bhp @ 4000 rpm</td>\n",
       "      <td>190 Nm @ 2000 rpm</td>\n",
       "      <td>FWD</td>\n",
       "      <td>3995.0</td>\n",
       "      <td>1695.0</td>\n",
       "      <td>1555.0</td>\n",
       "      <td>5.0</td>\n",
       "      <td>42.0</td>\n",
       "    </tr>\n",
       "    <tr>\n",
       "      <th>2</th>\n",
       "      <td>Hyundai</td>\n",
       "      <td>i10 Magna 1.2 Kappa2</td>\n",
       "      <td>220000</td>\n",
       "      <td>2011</td>\n",
       "      <td>67000</td>\n",
       "      <td>Petrol</td>\n",
       "      <td>Manual</td>\n",
       "      <td>Lucknow</td>\n",
       "      <td>Maroon</td>\n",
       "      <td>First</td>\n",
       "      <td>Individual</td>\n",
       "      <td>1197 cc</td>\n",
       "      <td>79 bhp @ 6000 rpm</td>\n",
       "      <td>112.7619 Nm @ 4000 rpm</td>\n",
       "      <td>FWD</td>\n",
       "      <td>3585.0</td>\n",
       "      <td>1595.0</td>\n",
       "      <td>1550.0</td>\n",
       "      <td>5.0</td>\n",
       "      <td>35.0</td>\n",
       "    </tr>\n",
       "    <tr>\n",
       "      <th>3</th>\n",
       "      <td>Toyota</td>\n",
       "      <td>Glanza G</td>\n",
       "      <td>799000</td>\n",
       "      <td>2019</td>\n",
       "      <td>37500</td>\n",
       "      <td>Petrol</td>\n",
       "      <td>Manual</td>\n",
       "      <td>Mangalore</td>\n",
       "      <td>Red</td>\n",
       "      <td>First</td>\n",
       "      <td>Individual</td>\n",
       "      <td>1197 cc</td>\n",
       "      <td>82 bhp @ 6000 rpm</td>\n",
       "      <td>113 Nm @ 4200 rpm</td>\n",
       "      <td>FWD</td>\n",
       "      <td>3995.0</td>\n",
       "      <td>1745.0</td>\n",
       "      <td>1510.0</td>\n",
       "      <td>5.0</td>\n",
       "      <td>37.0</td>\n",
       "    </tr>\n",
       "    <tr>\n",
       "      <th>4</th>\n",
       "      <td>Toyota</td>\n",
       "      <td>Innova 2.4 VX 7 STR [2016-2020]</td>\n",
       "      <td>1950000</td>\n",
       "      <td>2018</td>\n",
       "      <td>69000</td>\n",
       "      <td>Diesel</td>\n",
       "      <td>Manual</td>\n",
       "      <td>Mumbai</td>\n",
       "      <td>Grey</td>\n",
       "      <td>First</td>\n",
       "      <td>Individual</td>\n",
       "      <td>2393 cc</td>\n",
       "      <td>148 bhp @ 3400 rpm</td>\n",
       "      <td>343 Nm @ 1400 rpm</td>\n",
       "      <td>RWD</td>\n",
       "      <td>4735.0</td>\n",
       "      <td>1830.0</td>\n",
       "      <td>1795.0</td>\n",
       "      <td>7.0</td>\n",
       "      <td>55.0</td>\n",
       "    </tr>\n",
       "    <tr>\n",
       "      <th>...</th>\n",
       "      <td>...</td>\n",
       "      <td>...</td>\n",
       "      <td>...</td>\n",
       "      <td>...</td>\n",
       "      <td>...</td>\n",
       "      <td>...</td>\n",
       "      <td>...</td>\n",
       "      <td>...</td>\n",
       "      <td>...</td>\n",
       "      <td>...</td>\n",
       "      <td>...</td>\n",
       "      <td>...</td>\n",
       "      <td>...</td>\n",
       "      <td>...</td>\n",
       "      <td>...</td>\n",
       "      <td>...</td>\n",
       "      <td>...</td>\n",
       "      <td>...</td>\n",
       "      <td>...</td>\n",
       "      <td>...</td>\n",
       "    </tr>\n",
       "    <tr>\n",
       "      <th>2054</th>\n",
       "      <td>Mahindra</td>\n",
       "      <td>XUV500 W8 [2015-2017]</td>\n",
       "      <td>850000</td>\n",
       "      <td>2016</td>\n",
       "      <td>90300</td>\n",
       "      <td>Diesel</td>\n",
       "      <td>Manual</td>\n",
       "      <td>Surat</td>\n",
       "      <td>White</td>\n",
       "      <td>First</td>\n",
       "      <td>Individual</td>\n",
       "      <td>2179 cc</td>\n",
       "      <td>138 bhp @ 3750 rpm</td>\n",
       "      <td>330 Nm @ 1600 rpm</td>\n",
       "      <td>FWD</td>\n",
       "      <td>4585.0</td>\n",
       "      <td>1890.0</td>\n",
       "      <td>1785.0</td>\n",
       "      <td>7.0</td>\n",
       "      <td>70.0</td>\n",
       "    </tr>\n",
       "    <tr>\n",
       "      <th>2055</th>\n",
       "      <td>Hyundai</td>\n",
       "      <td>Eon D-Lite +</td>\n",
       "      <td>275000</td>\n",
       "      <td>2014</td>\n",
       "      <td>83000</td>\n",
       "      <td>Petrol</td>\n",
       "      <td>Manual</td>\n",
       "      <td>Ahmedabad</td>\n",
       "      <td>White</td>\n",
       "      <td>Second</td>\n",
       "      <td>Individual</td>\n",
       "      <td>814 cc</td>\n",
       "      <td>55 bhp @ 5500 rpm</td>\n",
       "      <td>75 Nm @ 4000 rpm</td>\n",
       "      <td>FWD</td>\n",
       "      <td>3495.0</td>\n",
       "      <td>1550.0</td>\n",
       "      <td>1500.0</td>\n",
       "      <td>5.0</td>\n",
       "      <td>32.0</td>\n",
       "    </tr>\n",
       "    <tr>\n",
       "      <th>2056</th>\n",
       "      <td>Ford</td>\n",
       "      <td>Figo Duratec Petrol ZXI 1.2</td>\n",
       "      <td>240000</td>\n",
       "      <td>2013</td>\n",
       "      <td>73000</td>\n",
       "      <td>Petrol</td>\n",
       "      <td>Manual</td>\n",
       "      <td>Thane</td>\n",
       "      <td>Silver</td>\n",
       "      <td>First</td>\n",
       "      <td>Individual</td>\n",
       "      <td>1196 cc</td>\n",
       "      <td>70 bhp @ 6250 rpm</td>\n",
       "      <td>102 Nm @ 4000 rpm</td>\n",
       "      <td>FWD</td>\n",
       "      <td>3795.0</td>\n",
       "      <td>1680.0</td>\n",
       "      <td>1427.0</td>\n",
       "      <td>5.0</td>\n",
       "      <td>45.0</td>\n",
       "    </tr>\n",
       "    <tr>\n",
       "      <th>2057</th>\n",
       "      <td>BMW</td>\n",
       "      <td>5-Series 520d Luxury Line [2017-2019]</td>\n",
       "      <td>4290000</td>\n",
       "      <td>2018</td>\n",
       "      <td>60474</td>\n",
       "      <td>Diesel</td>\n",
       "      <td>Automatic</td>\n",
       "      <td>Coimbatore</td>\n",
       "      <td>White</td>\n",
       "      <td>First</td>\n",
       "      <td>Individual</td>\n",
       "      <td>1995 cc</td>\n",
       "      <td>188 bhp @ 4000 rpm</td>\n",
       "      <td>400 Nm @ 1750 rpm</td>\n",
       "      <td>RWD</td>\n",
       "      <td>4936.0</td>\n",
       "      <td>1868.0</td>\n",
       "      <td>1479.0</td>\n",
       "      <td>5.0</td>\n",
       "      <td>65.0</td>\n",
       "    </tr>\n",
       "    <tr>\n",
       "      <th>2058</th>\n",
       "      <td>Mahindra</td>\n",
       "      <td>Bolero Power Plus ZLX [2016-2019]</td>\n",
       "      <td>670000</td>\n",
       "      <td>2017</td>\n",
       "      <td>72000</td>\n",
       "      <td>Diesel</td>\n",
       "      <td>Manual</td>\n",
       "      <td>Guwahati</td>\n",
       "      <td>White</td>\n",
       "      <td>First</td>\n",
       "      <td>Individual</td>\n",
       "      <td>1493 cc</td>\n",
       "      <td>70 bhp @ 3600 rpm</td>\n",
       "      <td>195 Nm @ 1400 rpm</td>\n",
       "      <td>RWD</td>\n",
       "      <td>3995.0</td>\n",
       "      <td>1745.0</td>\n",
       "      <td>1880.0</td>\n",
       "      <td>7.0</td>\n",
       "      <td>NaN</td>\n",
       "    </tr>\n",
       "  </tbody>\n",
       "</table>\n",
       "<p>2059 rows × 20 columns</p>\n",
       "</div>"
      ],
      "text/plain": [
       "               Make                                  Model    Price  Year  \\\n",
       "0             Honda                    Amaze 1.2 VX i-VTEC   505000  2017   \n",
       "1     Maruti Suzuki                        Swift DZire VDI   450000  2014   \n",
       "2           Hyundai                   i10 Magna 1.2 Kappa2   220000  2011   \n",
       "3            Toyota                               Glanza G   799000  2019   \n",
       "4            Toyota        Innova 2.4 VX 7 STR [2016-2020]  1950000  2018   \n",
       "...             ...                                    ...      ...   ...   \n",
       "2054       Mahindra                  XUV500 W8 [2015-2017]   850000  2016   \n",
       "2055        Hyundai                           Eon D-Lite +   275000  2014   \n",
       "2056           Ford            Figo Duratec Petrol ZXI 1.2   240000  2013   \n",
       "2057            BMW  5-Series 520d Luxury Line [2017-2019]  4290000  2018   \n",
       "2058       Mahindra      Bolero Power Plus ZLX [2016-2019]   670000  2017   \n",
       "\n",
       "      Kilometer Fuel Type Transmission    Location   Color   Owner  \\\n",
       "0         87150    Petrol       Manual        Pune    Grey   First   \n",
       "1         75000    Diesel       Manual    Ludhiana   White  Second   \n",
       "2         67000    Petrol       Manual     Lucknow  Maroon   First   \n",
       "3         37500    Petrol       Manual   Mangalore     Red   First   \n",
       "4         69000    Diesel       Manual      Mumbai    Grey   First   \n",
       "...         ...       ...          ...         ...     ...     ...   \n",
       "2054      90300    Diesel       Manual       Surat   White   First   \n",
       "2055      83000    Petrol       Manual   Ahmedabad   White  Second   \n",
       "2056      73000    Petrol       Manual       Thane  Silver   First   \n",
       "2057      60474    Diesel    Automatic  Coimbatore   White   First   \n",
       "2058      72000    Diesel       Manual    Guwahati   White   First   \n",
       "\n",
       "     Seller Type   Engine           Max Power              Max Torque  \\\n",
       "0      Corporate  1198 cc   87 bhp @ 6000 rpm       109 Nm @ 4500 rpm   \n",
       "1     Individual  1248 cc   74 bhp @ 4000 rpm       190 Nm @ 2000 rpm   \n",
       "2     Individual  1197 cc   79 bhp @ 6000 rpm  112.7619 Nm @ 4000 rpm   \n",
       "3     Individual  1197 cc   82 bhp @ 6000 rpm       113 Nm @ 4200 rpm   \n",
       "4     Individual  2393 cc  148 bhp @ 3400 rpm       343 Nm @ 1400 rpm   \n",
       "...          ...      ...                 ...                     ...   \n",
       "2054  Individual  2179 cc  138 bhp @ 3750 rpm       330 Nm @ 1600 rpm   \n",
       "2055  Individual   814 cc   55 bhp @ 5500 rpm        75 Nm @ 4000 rpm   \n",
       "2056  Individual  1196 cc   70 bhp @ 6250 rpm       102 Nm @ 4000 rpm   \n",
       "2057  Individual  1995 cc  188 bhp @ 4000 rpm       400 Nm @ 1750 rpm   \n",
       "2058  Individual  1493 cc   70 bhp @ 3600 rpm       195 Nm @ 1400 rpm   \n",
       "\n",
       "     Drivetrain  Length   Width  Height  Seating Capacity  Fuel Tank Capacity  \n",
       "0           FWD  3990.0  1680.0  1505.0               5.0                35.0  \n",
       "1           FWD  3995.0  1695.0  1555.0               5.0                42.0  \n",
       "2           FWD  3585.0  1595.0  1550.0               5.0                35.0  \n",
       "3           FWD  3995.0  1745.0  1510.0               5.0                37.0  \n",
       "4           RWD  4735.0  1830.0  1795.0               7.0                55.0  \n",
       "...         ...     ...     ...     ...               ...                 ...  \n",
       "2054        FWD  4585.0  1890.0  1785.0               7.0                70.0  \n",
       "2055        FWD  3495.0  1550.0  1500.0               5.0                32.0  \n",
       "2056        FWD  3795.0  1680.0  1427.0               5.0                45.0  \n",
       "2057        RWD  4936.0  1868.0  1479.0               5.0                65.0  \n",
       "2058        RWD  3995.0  1745.0  1880.0               7.0                 NaN  \n",
       "\n",
       "[2059 rows x 20 columns]"
      ]
     },
     "execution_count": 101,
     "metadata": {},
     "output_type": "execute_result"
    }
   ],
   "source": [
    "df = pd.read_csv('car_details_v4.csv')\n",
    "df"
   ]
  },
  {
   "cell_type": "code",
   "execution_count": 102,
   "metadata": {},
   "outputs": [],
   "source": [
    "missing_values = [\"NA\", \"N/A\", \"--\", \"missing\", \"null\", \"NaN\"]\n",
    "df = pd.read_csv(\"car_details_v4.csv\", na_values=missing_values)\n",
    "df = df.dropna(subset=['Engine'])\n",
    "df = df.dropna(subset=['Length'])\n",
    "df = df[df.Kilometer < 400000]"
   ]
  },
  {
   "cell_type": "code",
   "execution_count": 103,
   "metadata": {},
   "outputs": [
    {
     "data": {
      "text/plain": [
       "Make                   0\n",
       "Model                  0\n",
       "Price                  0\n",
       "Year                   0\n",
       "Kilometer              0\n",
       "Fuel Type              0\n",
       "Transmission           0\n",
       "Location               0\n",
       "Color                  0\n",
       "Owner                  0\n",
       "Seller Type            0\n",
       "Engine                 0\n",
       "Max Power              0\n",
       "Max Torque             0\n",
       "Drivetrain            63\n",
       "Length                 0\n",
       "Width                  0\n",
       "Height                 0\n",
       "Seating Capacity       0\n",
       "Fuel Tank Capacity    42\n",
       "dtype: int64"
      ]
     },
     "execution_count": 103,
     "metadata": {},
     "output_type": "execute_result"
    }
   ],
   "source": [
    "df.isna().sum()"
   ]
  },
  {
   "cell_type": "code",
   "execution_count": null,
   "metadata": {},
   "outputs": [],
   "source": []
  },
  {
   "cell_type": "markdown",
   "metadata": {},
   "source": [
    "## 2. Linear Regression Analytical Tasks"
   ]
  },
  {
   "cell_type": "markdown",
   "metadata": {},
   "source": [
    "##### State your research questions: Your research question should have two parts. For example, you might ask “what is the relationship between x1 and y after controlling for x2, x3, and x4 (both in the sample and in the underlying population)? How does my model perform on new data?”"
   ]
  },
  {
   "cell_type": "markdown",
   "metadata": {},
   "source": [
    "What is the relationship between Fuel tank capacity and mileage after controlling for seating capacity, price, and year (both in the sample and in the underlying population)? How does my model perform on new data? Why this?"
   ]
  },
  {
   "cell_type": "markdown",
   "metadata": {},
   "source": [
    "##### b. First, split your data into a training and testing set. Be sure that this split is reproducible (can be replicated by another). You may pick what proportion of observations are in the training and what proportion are in the testing sets."
   ]
  },
  {
   "cell_type": "code",
   "execution_count": 104,
   "metadata": {},
   "outputs": [],
   "source": [
    "df_train, df_test = train_test_split(df,test_size=0.20, train_size=0.80, random_state=824)"
   ]
  },
  {
   "cell_type": "markdown",
   "metadata": {},
   "source": [
    "##### ci. Show the summary output for your linear regression."
   ]
  },
  {
   "cell_type": "code",
   "execution_count": 105,
   "metadata": {},
   "outputs": [
    {
     "data": {
      "text/html": [
       "<table class=\"simpletable\">\n",
       "<caption>OLS Regression Results</caption>\n",
       "<tr>\n",
       "  <th>Dep. Variable:</th>        <td>Kilometer</td>    <th>  R-squared:         </th> <td>   0.416</td> \n",
       "</tr>\n",
       "<tr>\n",
       "  <th>Model:</th>                   <td>OLS</td>       <th>  Adj. R-squared:    </th> <td>   0.413</td> \n",
       "</tr>\n",
       "<tr>\n",
       "  <th>Method:</th>             <td>Least Squares</td>  <th>  F-statistic:       </th> <td>   124.5</td> \n",
       "</tr>\n",
       "<tr>\n",
       "  <th>Date:</th>             <td>Mon, 22 Apr 2024</td> <th>  Prob (F-statistic):</th> <td>1.32e-176</td>\n",
       "</tr>\n",
       "<tr>\n",
       "  <th>Time:</th>                 <td>18:53:50</td>     <th>  Log-Likelihood:    </th> <td> -18147.</td> \n",
       "</tr>\n",
       "<tr>\n",
       "  <th>No. Observations:</th>      <td>  1580</td>      <th>  AIC:               </th> <td>3.631e+04</td>\n",
       "</tr>\n",
       "<tr>\n",
       "  <th>Df Residuals:</th>          <td>  1570</td>      <th>  BIC:               </th> <td>3.637e+04</td>\n",
       "</tr>\n",
       "<tr>\n",
       "  <th>Df Model:</th>              <td>     9</td>      <th>                     </th>     <td> </td>    \n",
       "</tr>\n",
       "<tr>\n",
       "  <th>Covariance Type:</th>      <td>nonrobust</td>    <th>                     </th>     <td> </td>    \n",
       "</tr>\n",
       "</table>\n",
       "<table class=\"simpletable\">\n",
       "<tr>\n",
       "                   <td></td>                      <th>coef</th>     <th>std err</th>      <th>t</th>      <th>P>|t|</th>  <th>[0.025</th>    <th>0.975]</th>  \n",
       "</tr>\n",
       "<tr>\n",
       "  <th>Intercept</th>                           <td> 1.004e+07</td> <td> 3.89e+05</td> <td>   25.809</td> <td> 0.000</td> <td> 9.28e+06</td> <td> 1.08e+07</td>\n",
       "</tr>\n",
       "<tr>\n",
       "  <th>Price</th>                               <td>   -0.0010</td> <td>    0.000</td> <td>   -3.851</td> <td> 0.000</td> <td>   -0.002</td> <td>   -0.001</td>\n",
       "</tr>\n",
       "<tr>\n",
       "  <th>Year</th>                                <td>-4969.7133</td> <td>  193.042</td> <td>  -25.744</td> <td> 0.000</td> <td>-5348.361</td> <td>-4591.066</td>\n",
       "</tr>\n",
       "<tr>\n",
       "  <th>SeatingCapacity</th>                     <td> 5894.9263</td> <td>  742.787</td> <td>    7.936</td> <td> 0.000</td> <td> 4437.967</td> <td> 7351.885</td>\n",
       "</tr>\n",
       "<tr>\n",
       "  <th>Transmission:FuelType[CNG]</th>          <td>  141.4574</td> <td> 4093.262</td> <td>    0.035</td> <td> 0.972</td> <td>-7887.379</td> <td> 8170.294</td>\n",
       "</tr>\n",
       "<tr>\n",
       "  <th>Transmission:FuelType[CNG + CNG]</th>    <td>-6629.3966</td> <td> 2.36e+04</td> <td>   -0.280</td> <td> 0.779</td> <td> -5.3e+04</td> <td> 3.98e+04</td>\n",
       "</tr>\n",
       "<tr>\n",
       "  <th>Transmission:FuelType[Diesel]</th>       <td> 1.264e+04</td> <td> 1612.997</td> <td>    7.834</td> <td> 0.000</td> <td> 9472.017</td> <td> 1.58e+04</td>\n",
       "</tr>\n",
       "<tr>\n",
       "  <th>Transmission:FuelType[Hybrid]</th>       <td> 1.206e-08</td> <td> 4.67e-10</td> <td>   25.798</td> <td> 0.000</td> <td> 1.11e-08</td> <td>  1.3e-08</td>\n",
       "</tr>\n",
       "<tr>\n",
       "  <th>Transmission:FuelType[LPG]</th>          <td>-1.923e+04</td> <td> 1.19e+04</td> <td>   -1.616</td> <td> 0.106</td> <td>-4.26e+04</td> <td> 4108.992</td>\n",
       "</tr>\n",
       "<tr>\n",
       "  <th>Transmission:FuelType[Petrol]</th>       <td>-7905.8643</td> <td> 1616.189</td> <td>   -4.892</td> <td> 0.000</td> <td>-1.11e+04</td> <td>-4735.748</td>\n",
       "</tr>\n",
       "<tr>\n",
       "  <th>Transmission:FuelType[Petrol + CNG]</th> <td> 1.475e+04</td> <td> 2.36e+04</td> <td>    0.624</td> <td> 0.533</td> <td>-3.16e+04</td> <td> 6.11e+04</td>\n",
       "</tr>\n",
       "</table>\n",
       "<table class=\"simpletable\">\n",
       "<tr>\n",
       "  <th>Omnibus:</th>       <td>256.506</td> <th>  Durbin-Watson:     </th> <td>   1.944</td> \n",
       "</tr>\n",
       "<tr>\n",
       "  <th>Prob(Omnibus):</th> <td> 0.000</td>  <th>  Jarque-Bera (JB):  </th> <td> 812.904</td> \n",
       "</tr>\n",
       "<tr>\n",
       "  <th>Skew:</th>          <td> 0.808</td>  <th>  Prob(JB):          </th> <td>3.02e-177</td>\n",
       "</tr>\n",
       "<tr>\n",
       "  <th>Kurtosis:</th>      <td> 6.121</td>  <th>  Cond. No.          </th> <td>6.13e+24</td> \n",
       "</tr>\n",
       "</table><br/><br/>Notes:<br/>[1] Standard Errors assume that the covariance matrix of the errors is correctly specified.<br/>[2] The smallest eigenvalue is 4.06e-34. This might indicate that there are<br/>strong multicollinearity problems or that the design matrix is singular."
      ],
      "text/latex": [
       "\\begin{center}\n",
       "\\begin{tabular}{lclc}\n",
       "\\toprule\n",
       "\\textbf{Dep. Variable:}                      &    Kilometer     & \\textbf{  R-squared:         } &     0.416   \\\\\n",
       "\\textbf{Model:}                              &       OLS        & \\textbf{  Adj. R-squared:    } &     0.413   \\\\\n",
       "\\textbf{Method:}                             &  Least Squares   & \\textbf{  F-statistic:       } &     124.5   \\\\\n",
       "\\textbf{Date:}                               & Mon, 22 Apr 2024 & \\textbf{  Prob (F-statistic):} & 1.32e-176   \\\\\n",
       "\\textbf{Time:}                               &     18:53:50     & \\textbf{  Log-Likelihood:    } &   -18147.   \\\\\n",
       "\\textbf{No. Observations:}                   &        1580      & \\textbf{  AIC:               } & 3.631e+04   \\\\\n",
       "\\textbf{Df Residuals:}                       &        1570      & \\textbf{  BIC:               } & 3.637e+04   \\\\\n",
       "\\textbf{Df Model:}                           &           9      & \\textbf{                     } &             \\\\\n",
       "\\textbf{Covariance Type:}                    &    nonrobust     & \\textbf{                     } &             \\\\\n",
       "\\bottomrule\n",
       "\\end{tabular}\n",
       "\\begin{tabular}{lcccccc}\n",
       "                                             & \\textbf{coef} & \\textbf{std err} & \\textbf{t} & \\textbf{P$> |$t$|$} & \\textbf{[0.025} & \\textbf{0.975]}  \\\\\n",
       "\\midrule\n",
       "\\textbf{Intercept}                           &    1.004e+07  &     3.89e+05     &    25.809  &         0.000        &     9.28e+06    &     1.08e+07     \\\\\n",
       "\\textbf{Price}                               &      -0.0010  &        0.000     &    -3.851  &         0.000        &       -0.002    &       -0.001     \\\\\n",
       "\\textbf{Year}                                &   -4969.7133  &      193.042     &   -25.744  &         0.000        &    -5348.361    &    -4591.066     \\\\\n",
       "\\textbf{SeatingCapacity}                     &    5894.9263  &      742.787     &     7.936  &         0.000        &     4437.967    &     7351.885     \\\\\n",
       "\\textbf{Transmission:FuelType[CNG]}          &     141.4574  &     4093.262     &     0.035  &         0.972        &    -7887.379    &     8170.294     \\\\\n",
       "\\textbf{Transmission:FuelType[CNG + CNG]}    &   -6629.3966  &     2.36e+04     &    -0.280  &         0.779        &     -5.3e+04    &     3.98e+04     \\\\\n",
       "\\textbf{Transmission:FuelType[Diesel]}       &    1.264e+04  &     1612.997     &     7.834  &         0.000        &     9472.017    &     1.58e+04     \\\\\n",
       "\\textbf{Transmission:FuelType[Hybrid]}       &    1.206e-08  &     4.67e-10     &    25.798  &         0.000        &     1.11e-08    &      1.3e-08     \\\\\n",
       "\\textbf{Transmission:FuelType[LPG]}          &   -1.923e+04  &     1.19e+04     &    -1.616  &         0.106        &    -4.26e+04    &     4108.992     \\\\\n",
       "\\textbf{Transmission:FuelType[Petrol]}       &   -7905.8643  &     1616.189     &    -4.892  &         0.000        &    -1.11e+04    &    -4735.748     \\\\\n",
       "\\textbf{Transmission:FuelType[Petrol + CNG]} &    1.475e+04  &     2.36e+04     &     0.624  &         0.533        &    -3.16e+04    &     6.11e+04     \\\\\n",
       "\\bottomrule\n",
       "\\end{tabular}\n",
       "\\begin{tabular}{lclc}\n",
       "\\textbf{Omnibus:}       & 256.506 & \\textbf{  Durbin-Watson:     } &     1.944  \\\\\n",
       "\\textbf{Prob(Omnibus):} &   0.000 & \\textbf{  Jarque-Bera (JB):  } &   812.904  \\\\\n",
       "\\textbf{Skew:}          &   0.808 & \\textbf{  Prob(JB):          } & 3.02e-177  \\\\\n",
       "\\textbf{Kurtosis:}      &   6.121 & \\textbf{  Cond. No.          } &  6.13e+24  \\\\\n",
       "\\bottomrule\n",
       "\\end{tabular}\n",
       "%\\caption{OLS Regression Results}\n",
       "\\end{center}\n",
       "\n",
       "Notes: \\newline\n",
       " [1] Standard Errors assume that the covariance matrix of the errors is correctly specified. \\newline\n",
       " [2] The smallest eigenvalue is 4.06e-34. This might indicate that there are \\newline\n",
       " strong multicollinearity problems or that the design matrix is singular."
      ],
      "text/plain": [
       "<class 'statsmodels.iolib.summary.Summary'>\n",
       "\"\"\"\n",
       "                            OLS Regression Results                            \n",
       "==============================================================================\n",
       "Dep. Variable:              Kilometer   R-squared:                       0.416\n",
       "Model:                            OLS   Adj. R-squared:                  0.413\n",
       "Method:                 Least Squares   F-statistic:                     124.5\n",
       "Date:                Mon, 22 Apr 2024   Prob (F-statistic):          1.32e-176\n",
       "Time:                        18:53:50   Log-Likelihood:                -18147.\n",
       "No. Observations:                1580   AIC:                         3.631e+04\n",
       "Df Residuals:                    1570   BIC:                         3.637e+04\n",
       "Df Model:                           9                                         \n",
       "Covariance Type:            nonrobust                                         \n",
       "=======================================================================================================\n",
       "                                          coef    std err          t      P>|t|      [0.025      0.975]\n",
       "-------------------------------------------------------------------------------------------------------\n",
       "Intercept                            1.004e+07   3.89e+05     25.809      0.000    9.28e+06    1.08e+07\n",
       "Price                                  -0.0010      0.000     -3.851      0.000      -0.002      -0.001\n",
       "Year                                -4969.7133    193.042    -25.744      0.000   -5348.361   -4591.066\n",
       "SeatingCapacity                      5894.9263    742.787      7.936      0.000    4437.967    7351.885\n",
       "Transmission:FuelType[CNG]            141.4574   4093.262      0.035      0.972   -7887.379    8170.294\n",
       "Transmission:FuelType[CNG + CNG]    -6629.3966   2.36e+04     -0.280      0.779    -5.3e+04    3.98e+04\n",
       "Transmission:FuelType[Diesel]        1.264e+04   1612.997      7.834      0.000    9472.017    1.58e+04\n",
       "Transmission:FuelType[Hybrid]        1.206e-08   4.67e-10     25.798      0.000    1.11e-08     1.3e-08\n",
       "Transmission:FuelType[LPG]          -1.923e+04   1.19e+04     -1.616      0.106   -4.26e+04    4108.992\n",
       "Transmission:FuelType[Petrol]       -7905.8643   1616.189     -4.892      0.000   -1.11e+04   -4735.748\n",
       "Transmission:FuelType[Petrol + CNG]  1.475e+04   2.36e+04      0.624      0.533   -3.16e+04    6.11e+04\n",
       "==============================================================================\n",
       "Omnibus:                      256.506   Durbin-Watson:                   1.944\n",
       "Prob(Omnibus):                  0.000   Jarque-Bera (JB):              812.904\n",
       "Skew:                           0.808   Prob(JB):                    3.02e-177\n",
       "Kurtosis:                       6.121   Cond. No.                     6.13e+24\n",
       "==============================================================================\n",
       "\n",
       "Notes:\n",
       "[1] Standard Errors assume that the covariance matrix of the errors is correctly specified.\n",
       "[2] The smallest eigenvalue is 4.06e-34. This might indicate that there are\n",
       "strong multicollinearity problems or that the design matrix is singular.\n",
       "\"\"\""
      ]
     },
     "execution_count": 105,
     "metadata": {},
     "output_type": "execute_result"
    }
   ],
   "source": [
    "df_train = df_train.rename(columns={'Seating Capacity': 'SeatingCapacity'})\n",
    "df_train = df_train.rename(columns={'Fuel Type': 'FuelType'})\n",
    "df_train['Transmission'] = df_train['Transmission'].map({'Manual': 1, 'Automatic': 0})\n",
    "results = smf.ols('Kilometer ~ Price + Year + SeatingCapacity + Transmission:FuelType',data = df_train).fit()\n",
    "results.summary()"
   ]
  },
  {
   "cell_type": "markdown",
   "metadata": {},
   "source": [
    "##### cii. Write out the linear regression equation for your model. Use appropriate notation. (Note: if you use a categorical explanatory variable that has a large number of levels, you may pick a specific level and write the model for that specific level. Be sure to clearly state what specific fitted model you are writing.)"
   ]
  },
  {
   "cell_type": "markdown",
   "metadata": {},
   "source": [
    "$\\hat{Y}$ = 10040000 + -0.0010 x price + -4969.7133 x Year + 5894.9263 x Seating Capacity + Fuel Type[Petrol] x -7905.8643"
   ]
  },
  {
   "cell_type": "markdown",
   "metadata": {},
   "source": [
    "##### di. Interpret your selected slope coefficient (not the intercept) for your linear model (descriptive analytics), describing the relationship between your two variables of interest."
   ]
  },
  {
   "cell_type": "markdown",
   "metadata": {},
   "source": [
    "When looking at a vehicle and holding Seating Capacity, Year, Price, all else constant, we assume that a vehicles milegage will decrease by -8363.3990"
   ]
  },
  {
   "cell_type": "markdown",
   "metadata": {},
   "source": [
    "##### dii. Provide and interpret a 95% confidence interval for the slope coefficient, and in doing so perform inference for the underlying population."
   ]
  },
  {
   "cell_type": "code",
   "execution_count": 120,
   "metadata": {},
   "outputs": [
    {
     "data": {
      "text/plain": [
       "122000.0"
      ]
     },
     "execution_count": 120,
     "metadata": {},
     "output_type": "execute_result"
    }
   ],
   "source": [
    "np.quantile(df_train['Kilometer'],0.975)"
   ]
  },
  {
   "cell_type": "code",
   "execution_count": 121,
   "metadata": {},
   "outputs": [
    {
     "data": {
      "text/plain": [
       "5959.575"
      ]
     },
     "execution_count": 121,
     "metadata": {},
     "output_type": "execute_result"
    }
   ],
   "source": [
    "np.quantile(df_train['Kilometer'],0.025)"
   ]
  },
  {
   "cell_type": "markdown",
   "metadata": {},
   "source": [
    "This means that in our training data, we are 95% confident that the mileage of any given car will be between the values of 5959.575 Kilometers, and 122,000 Kilometers."
   ]
  },
  {
   "cell_type": "markdown",
   "metadata": {},
   "source": [
    "##### diii. Check all linear regression conditions for your model. Do the conditions support that your answers for the two questions above (descriptive analytics and inference) are valid?"
   ]
  },
  {
   "cell_type": "code",
   "execution_count": 122,
   "metadata": {},
   "outputs": [
    {
     "data": {
      "image/png": "[encoded data removed]",
      "text/plain": [
       "<Figure size 1000x500 with 1 Axes>"
      ]
     },
     "metadata": {},
     "output_type": "display_data"
    }
   ],
   "source": [
    "resid = results.resid\n",
    "plt.figure(figsize=(10, 5))\n",
    "sns.regplot(x=results.fittedvalues, y=resid,\n",
    "            color=\"black\",\n",
    "            line_kws={\"color\": \"b\"}, lowess=True)\n",
    "plt.title(\"Deviance Residuals vs. Fitted Values\")\n",
    "plt.xlabel(\"Predicted Log-Odds (Fitted Values)\")\n",
    "plt.ylabel(\"Deviance Residuals\")\n",
    "plt.show()"
   ]
  },
  {
   "cell_type": "code",
   "execution_count": 123,
   "metadata": {},
   "outputs": [
    {
     "data": {
      "text/html": [
       "<div>\n",
       "<style scoped>\n",
       "    .dataframe tbody tr th:only-of-type {\n",
       "        vertical-align: middle;\n",
       "    }\n",
       "\n",
       "    .dataframe tbody tr th {\n",
       "        vertical-align: top;\n",
       "    }\n",
       "\n",
       "    .dataframe thead th {\n",
       "        text-align: right;\n",
       "    }\n",
       "</style>\n",
       "<table border=\"1\" class=\"dataframe\">\n",
       "  <thead>\n",
       "    <tr style=\"text-align: right;\">\n",
       "      <th></th>\n",
       "      <th>Price</th>\n",
       "      <th>Year</th>\n",
       "      <th>SeatingCapacity</th>\n",
       "    </tr>\n",
       "  </thead>\n",
       "  <tbody>\n",
       "    <tr>\n",
       "      <th>Price</th>\n",
       "      <td>1.000000</td>\n",
       "      <td>0.307173</td>\n",
       "      <td>-0.055838</td>\n",
       "    </tr>\n",
       "    <tr>\n",
       "      <th>Year</th>\n",
       "      <td>0.307173</td>\n",
       "      <td>1.000000</td>\n",
       "      <td>0.003776</td>\n",
       "    </tr>\n",
       "    <tr>\n",
       "      <th>SeatingCapacity</th>\n",
       "      <td>-0.055838</td>\n",
       "      <td>0.003776</td>\n",
       "      <td>1.000000</td>\n",
       "    </tr>\n",
       "  </tbody>\n",
       "</table>\n",
       "</div>"
      ],
      "text/plain": [
       "                    Price      Year  SeatingCapacity\n",
       "Price            1.000000  0.307173        -0.055838\n",
       "Year             0.307173  1.000000         0.003776\n",
       "SeatingCapacity -0.055838  0.003776         1.000000"
      ]
     },
     "execution_count": 123,
     "metadata": {},
     "output_type": "execute_result"
    }
   ],
   "source": [
    "predictor_variables = df_train[['Price', 'Year', 'SeatingCapacity']]\n",
    "correlation_matrix = predictor_variables.corr()\n",
    "correlation_matrix"
   ]
  },
  {
   "cell_type": "markdown",
   "metadata": {},
   "source": [
    "Our response variable is quantitative, so this works. I would say that in terms of a linear relationship, all the variables meet this requirement, except the Price variable, and some of the different fuel types. These  don't seem to have an effect on the milegage. In terms of inference, yes our variables our independent, so this fits. Given our low R-squared value, it seems like we can assume a normality of errors. Although it appears that values are not too concentrated, they are for the most part around 0 so I would say that our x and y values have equal variance. When looking at the correlation coefficients, it shows that we don't have multicolinearity which means our model fits this condition."
   ]
  },
  {
   "cell_type": "markdown",
   "metadata": {},
   "source": [
    "##### ei. Discuss what percent of variability in your response variable is explained by this model in the training data. Is this high? Is this low?"
   ]
  },
  {
   "cell_type": "markdown",
   "metadata": {},
   "source": [
    "given that our $R^2$ value is 0.416, it is somewhat low, and can be a concern for our model.  "
   ]
  },
  {
   "cell_type": "markdown",
   "metadata": {},
   "source": [
    "##### eii. Select one observation in your test data. Make a prediction with your model on this observation, and calculate its residual."
   ]
  },
  {
   "cell_type": "code",
   "execution_count": 110,
   "metadata": {},
   "outputs": [
    {
     "data": {
      "text/html": [
       "<div>\n",
       "<style scoped>\n",
       "    .dataframe tbody tr th:only-of-type {\n",
       "        vertical-align: middle;\n",
       "    }\n",
       "\n",
       "    .dataframe tbody tr th {\n",
       "        vertical-align: top;\n",
       "    }\n",
       "\n",
       "    .dataframe thead th {\n",
       "        text-align: right;\n",
       "    }\n",
       "</style>\n",
       "<table border=\"1\" class=\"dataframe\">\n",
       "  <thead>\n",
       "    <tr style=\"text-align: right;\">\n",
       "      <th></th>\n",
       "      <th>Make</th>\n",
       "      <th>Model</th>\n",
       "      <th>Price</th>\n",
       "      <th>Year</th>\n",
       "      <th>Kilometer</th>\n",
       "      <th>Fuel Type</th>\n",
       "      <th>Transmission</th>\n",
       "      <th>Location</th>\n",
       "      <th>Color</th>\n",
       "      <th>Owner</th>\n",
       "      <th>Seller Type</th>\n",
       "      <th>Engine</th>\n",
       "      <th>Max Power</th>\n",
       "      <th>Max Torque</th>\n",
       "      <th>Drivetrain</th>\n",
       "      <th>Length</th>\n",
       "      <th>Width</th>\n",
       "      <th>Height</th>\n",
       "      <th>Seating Capacity</th>\n",
       "      <th>Fuel Tank Capacity</th>\n",
       "    </tr>\n",
       "  </thead>\n",
       "  <tbody>\n",
       "    <tr>\n",
       "      <th>375</th>\n",
       "      <td>Hyundai</td>\n",
       "      <td>i10 Sportz 1.2 Kappa2</td>\n",
       "      <td>275000</td>\n",
       "      <td>2011</td>\n",
       "      <td>42000</td>\n",
       "      <td>Petrol</td>\n",
       "      <td>Manual</td>\n",
       "      <td>Pune</td>\n",
       "      <td>Grey</td>\n",
       "      <td>First</td>\n",
       "      <td>Individual</td>\n",
       "      <td>1197 cc</td>\n",
       "      <td>79 bhp @ 6000 rpm</td>\n",
       "      <td>112.7619 Nm @ 4000 rpm</td>\n",
       "      <td>FWD</td>\n",
       "      <td>3585.0</td>\n",
       "      <td>1595.0</td>\n",
       "      <td>1550.0</td>\n",
       "      <td>5.0</td>\n",
       "      <td>35.0</td>\n",
       "    </tr>\n",
       "  </tbody>\n",
       "</table>\n",
       "</div>"
      ],
      "text/plain": [
       "        Make                  Model   Price  Year  Kilometer Fuel Type  \\\n",
       "375  Hyundai  i10 Sportz 1.2 Kappa2  275000  2011      42000    Petrol   \n",
       "\n",
       "    Transmission Location Color  Owner Seller Type   Engine  \\\n",
       "375       Manual     Pune  Grey  First  Individual  1197 cc   \n",
       "\n",
       "             Max Power              Max Torque Drivetrain  Length   Width  \\\n",
       "375  79 bhp @ 6000 rpm  112.7619 Nm @ 4000 rpm        FWD  3585.0  1595.0   \n",
       "\n",
       "     Height  Seating Capacity  Fuel Tank Capacity  \n",
       "375  1550.0               5.0                35.0  "
      ]
     },
     "execution_count": 110,
     "metadata": {},
     "output_type": "execute_result"
    }
   ],
   "source": [
    "df_test.sample(1, random_state = 300)"
   ]
  },
  {
   "cell_type": "code",
   "execution_count": 117,
   "metadata": {},
   "outputs": [
    {
     "data": {
      "text/plain": [
       "67200.32090000005"
      ]
     },
     "execution_count": 117,
     "metadata": {},
     "output_type": "execute_result"
    }
   ],
   "source": [
    "sampletest = 10040000 + -0.0010 * 275000 + -4969.7133 * 2011 + 5894.9263 * 5 + 1 * -7905.8643\n",
    "sampletest"
   ]
  },
  {
   "cell_type": "code",
   "execution_count": 118,
   "metadata": {},
   "outputs": [
    {
     "data": {
      "text/plain": [
       "-25200.32090000005"
      ]
     },
     "execution_count": 118,
     "metadata": {},
     "output_type": "execute_result"
    }
   ],
   "source": [
    "samp_resid = 42000 - sampletest\n",
    "samp_resid"
   ]
  },
  {
   "cell_type": "markdown",
   "metadata": {},
   "source": [
    "##### eiii. Calculate the RMSE on your training data and your testing data. Interpret the RMSE for the testing data. Is this high? Is this low?"
   ]
  },
  {
   "cell_type": "code",
   "execution_count": 126,
   "metadata": {},
   "outputs": [
    {
     "data": {
      "text/plain": [
       "23542.052725060785"
      ]
     },
     "execution_count": 126,
     "metadata": {},
     "output_type": "execute_result"
    }
   ],
   "source": [
    "mean = results.resid **2\n",
    "mean1 = mean.mean()\n",
    "RMSE = math.sqrt(mean1)\n",
    "RMSE"
   ]
  },
  {
   "cell_type": "code",
   "execution_count": 114,
   "metadata": {},
   "outputs": [
    {
     "data": {
      "text/html": [
       "<table class=\"simpletable\">\n",
       "<caption>OLS Regression Results</caption>\n",
       "<tr>\n",
       "  <th>Dep. Variable:</th>        <td>Kilometer</td>    <th>  R-squared:         </th> <td>   0.442</td>\n",
       "</tr>\n",
       "<tr>\n",
       "  <th>Model:</th>                   <td>OLS</td>       <th>  Adj. R-squared:    </th> <td>   0.432</td>\n",
       "</tr>\n",
       "<tr>\n",
       "  <th>Method:</th>             <td>Least Squares</td>  <th>  F-statistic:       </th> <td>   43.89</td>\n",
       "</tr>\n",
       "<tr>\n",
       "  <th>Date:</th>             <td>Mon, 22 Apr 2024</td> <th>  Prob (F-statistic):</th> <td>1.53e-45</td>\n",
       "</tr>\n",
       "<tr>\n",
       "  <th>Time:</th>                 <td>18:54:01</td>     <th>  Log-Likelihood:    </th> <td> -4591.5</td>\n",
       "</tr>\n",
       "<tr>\n",
       "  <th>No. Observations:</th>      <td>   396</td>      <th>  AIC:               </th> <td>   9199.</td>\n",
       "</tr>\n",
       "<tr>\n",
       "  <th>Df Residuals:</th>          <td>   388</td>      <th>  BIC:               </th> <td>   9231.</td>\n",
       "</tr>\n",
       "<tr>\n",
       "  <th>Df Model:</th>              <td>     7</td>      <th>                     </th>     <td> </td>   \n",
       "</tr>\n",
       "<tr>\n",
       "  <th>Covariance Type:</th>      <td>nonrobust</td>    <th>                     </th>     <td> </td>   \n",
       "</tr>\n",
       "</table>\n",
       "<table class=\"simpletable\">\n",
       "<tr>\n",
       "                <td></td>                   <th>coef</th>     <th>std err</th>      <th>t</th>      <th>P>|t|</th>  <th>[0.025</th>    <th>0.975]</th>  \n",
       "</tr>\n",
       "<tr>\n",
       "  <th>Intercept</th>                     <td> 1.162e+07</td> <td>  9.3e+05</td> <td>   12.497</td> <td> 0.000</td> <td> 9.79e+06</td> <td> 1.34e+07</td>\n",
       "</tr>\n",
       "<tr>\n",
       "  <th>Price</th>                         <td>   -0.0015</td> <td>    0.001</td> <td>   -1.680</td> <td> 0.094</td> <td>   -0.003</td> <td>    0.000</td>\n",
       "</tr>\n",
       "<tr>\n",
       "  <th>Year</th>                          <td>-5762.0599</td> <td>  461.236</td> <td>  -12.493</td> <td> 0.000</td> <td>-6668.895</td> <td>-4855.225</td>\n",
       "</tr>\n",
       "<tr>\n",
       "  <th>SeatingCapacity</th>               <td> 1.068e+04</td> <td> 1845.687</td> <td>    5.787</td> <td> 0.000</td> <td> 7051.778</td> <td> 1.43e+04</td>\n",
       "</tr>\n",
       "<tr>\n",
       "  <th>Transmission:FuelType[CNG]</th>    <td>-3487.6958</td> <td> 7696.450</td> <td>   -0.453</td> <td> 0.651</td> <td>-1.86e+04</td> <td> 1.16e+04</td>\n",
       "</tr>\n",
       "<tr>\n",
       "  <th>Transmission:FuelType[Diesel]</th> <td> 7974.9842</td> <td> 3996.269</td> <td>    1.996</td> <td> 0.047</td> <td>  117.933</td> <td> 1.58e+04</td>\n",
       "</tr>\n",
       "<tr>\n",
       "  <th>Transmission:FuelType[Hybrid]</th> <td>-3.013e-12</td> <td> 4.82e-13</td> <td>   -6.246</td> <td> 0.000</td> <td>-3.96e-12</td> <td>-2.06e-12</td>\n",
       "</tr>\n",
       "<tr>\n",
       "  <th>Transmission:FuelType[LPG]</th>    <td>-4.937e+04</td> <td> 2.69e+04</td> <td>   -1.837</td> <td> 0.067</td> <td>-1.02e+05</td> <td> 3472.593</td>\n",
       "</tr>\n",
       "<tr>\n",
       "  <th>Transmission:FuelType[Petrol]</th> <td>-9783.9317</td> <td> 3698.539</td> <td>   -2.645</td> <td> 0.008</td> <td>-1.71e+04</td> <td>-2512.245</td>\n",
       "</tr>\n",
       "</table>\n",
       "<table class=\"simpletable\">\n",
       "<tr>\n",
       "  <th>Omnibus:</th>       <td>165.901</td> <th>  Durbin-Watson:     </th> <td>   2.063</td> \n",
       "</tr>\n",
       "<tr>\n",
       "  <th>Prob(Omnibus):</th> <td> 0.000</td>  <th>  Jarque-Bera (JB):  </th> <td>1063.768</td> \n",
       "</tr>\n",
       "<tr>\n",
       "  <th>Skew:</th>          <td> 1.653</td>  <th>  Prob(JB):          </th> <td>1.01e-231</td>\n",
       "</tr>\n",
       "<tr>\n",
       "  <th>Kurtosis:</th>      <td>10.317</td>  <th>  Cond. No.          </th> <td>6.07e+23</td> \n",
       "</tr>\n",
       "</table><br/><br/>Notes:<br/>[1] Standard Errors assume that the covariance matrix of the errors is correctly specified.<br/>[2] The smallest eigenvalue is 6.63e-33. This might indicate that there are<br/>strong multicollinearity problems or that the design matrix is singular."
      ],
      "text/latex": [
       "\\begin{center}\n",
       "\\begin{tabular}{lclc}\n",
       "\\toprule\n",
       "\\textbf{Dep. Variable:}                &    Kilometer     & \\textbf{  R-squared:         } &     0.442   \\\\\n",
       "\\textbf{Model:}                        &       OLS        & \\textbf{  Adj. R-squared:    } &     0.432   \\\\\n",
       "\\textbf{Method:}                       &  Least Squares   & \\textbf{  F-statistic:       } &     43.89   \\\\\n",
       "\\textbf{Date:}                         & Mon, 22 Apr 2024 & \\textbf{  Prob (F-statistic):} &  1.53e-45   \\\\\n",
       "\\textbf{Time:}                         &     18:54:01     & \\textbf{  Log-Likelihood:    } &   -4591.5   \\\\\n",
       "\\textbf{No. Observations:}             &         396      & \\textbf{  AIC:               } &     9199.   \\\\\n",
       "\\textbf{Df Residuals:}                 &         388      & \\textbf{  BIC:               } &     9231.   \\\\\n",
       "\\textbf{Df Model:}                     &           7      & \\textbf{                     } &             \\\\\n",
       "\\textbf{Covariance Type:}              &    nonrobust     & \\textbf{                     } &             \\\\\n",
       "\\bottomrule\n",
       "\\end{tabular}\n",
       "\\begin{tabular}{lcccccc}\n",
       "                                       & \\textbf{coef} & \\textbf{std err} & \\textbf{t} & \\textbf{P$> |$t$|$} & \\textbf{[0.025} & \\textbf{0.975]}  \\\\\n",
       "\\midrule\n",
       "\\textbf{Intercept}                     &    1.162e+07  &      9.3e+05     &    12.497  &         0.000        &     9.79e+06    &     1.34e+07     \\\\\n",
       "\\textbf{Price}                         &      -0.0015  &        0.001     &    -1.680  &         0.094        &       -0.003    &        0.000     \\\\\n",
       "\\textbf{Year}                          &   -5762.0599  &      461.236     &   -12.493  &         0.000        &    -6668.895    &    -4855.225     \\\\\n",
       "\\textbf{SeatingCapacity}               &    1.068e+04  &     1845.687     &     5.787  &         0.000        &     7051.778    &     1.43e+04     \\\\\n",
       "\\textbf{Transmission:FuelType[CNG]}    &   -3487.6958  &     7696.450     &    -0.453  &         0.651        &    -1.86e+04    &     1.16e+04     \\\\\n",
       "\\textbf{Transmission:FuelType[Diesel]} &    7974.9842  &     3996.269     &     1.996  &         0.047        &      117.933    &     1.58e+04     \\\\\n",
       "\\textbf{Transmission:FuelType[Hybrid]} &   -3.013e-12  &     4.82e-13     &    -6.246  &         0.000        &    -3.96e-12    &    -2.06e-12     \\\\\n",
       "\\textbf{Transmission:FuelType[LPG]}    &   -4.937e+04  &     2.69e+04     &    -1.837  &         0.067        &    -1.02e+05    &     3472.593     \\\\\n",
       "\\textbf{Transmission:FuelType[Petrol]} &   -9783.9317  &     3698.539     &    -2.645  &         0.008        &    -1.71e+04    &    -2512.245     \\\\\n",
       "\\bottomrule\n",
       "\\end{tabular}\n",
       "\\begin{tabular}{lclc}\n",
       "\\textbf{Omnibus:}       & 165.901 & \\textbf{  Durbin-Watson:     } &     2.063  \\\\\n",
       "\\textbf{Prob(Omnibus):} &   0.000 & \\textbf{  Jarque-Bera (JB):  } &  1063.768  \\\\\n",
       "\\textbf{Skew:}          &   1.653 & \\textbf{  Prob(JB):          } & 1.01e-231  \\\\\n",
       "\\textbf{Kurtosis:}      &  10.317 & \\textbf{  Cond. No.          } &  6.07e+23  \\\\\n",
       "\\bottomrule\n",
       "\\end{tabular}\n",
       "%\\caption{OLS Regression Results}\n",
       "\\end{center}\n",
       "\n",
       "Notes: \\newline\n",
       " [1] Standard Errors assume that the covariance matrix of the errors is correctly specified. \\newline\n",
       " [2] The smallest eigenvalue is 6.63e-33. This might indicate that there are \\newline\n",
       " strong multicollinearity problems or that the design matrix is singular."
      ],
      "text/plain": [
       "<class 'statsmodels.iolib.summary.Summary'>\n",
       "\"\"\"\n",
       "                            OLS Regression Results                            \n",
       "==============================================================================\n",
       "Dep. Variable:              Kilometer   R-squared:                       0.442\n",
       "Model:                            OLS   Adj. R-squared:                  0.432\n",
       "Method:                 Least Squares   F-statistic:                     43.89\n",
       "Date:                Mon, 22 Apr 2024   Prob (F-statistic):           1.53e-45\n",
       "Time:                        18:54:01   Log-Likelihood:                -4591.5\n",
       "No. Observations:                 396   AIC:                             9199.\n",
       "Df Residuals:                     388   BIC:                             9231.\n",
       "Df Model:                           7                                         \n",
       "Covariance Type:            nonrobust                                         \n",
       "=================================================================================================\n",
       "                                    coef    std err          t      P>|t|      [0.025      0.975]\n",
       "-------------------------------------------------------------------------------------------------\n",
       "Intercept                      1.162e+07    9.3e+05     12.497      0.000    9.79e+06    1.34e+07\n",
       "Price                            -0.0015      0.001     -1.680      0.094      -0.003       0.000\n",
       "Year                          -5762.0599    461.236    -12.493      0.000   -6668.895   -4855.225\n",
       "SeatingCapacity                1.068e+04   1845.687      5.787      0.000    7051.778    1.43e+04\n",
       "Transmission:FuelType[CNG]    -3487.6958   7696.450     -0.453      0.651   -1.86e+04    1.16e+04\n",
       "Transmission:FuelType[Diesel]  7974.9842   3996.269      1.996      0.047     117.933    1.58e+04\n",
       "Transmission:FuelType[Hybrid] -3.013e-12   4.82e-13     -6.246      0.000   -3.96e-12   -2.06e-12\n",
       "Transmission:FuelType[LPG]    -4.937e+04   2.69e+04     -1.837      0.067   -1.02e+05    3472.593\n",
       "Transmission:FuelType[Petrol] -9783.9317   3698.539     -2.645      0.008   -1.71e+04   -2512.245\n",
       "==============================================================================\n",
       "Omnibus:                      165.901   Durbin-Watson:                   2.063\n",
       "Prob(Omnibus):                  0.000   Jarque-Bera (JB):             1063.768\n",
       "Skew:                           1.653   Prob(JB):                    1.01e-231\n",
       "Kurtosis:                      10.317   Cond. No.                     6.07e+23\n",
       "==============================================================================\n",
       "\n",
       "Notes:\n",
       "[1] Standard Errors assume that the covariance matrix of the errors is correctly specified.\n",
       "[2] The smallest eigenvalue is 6.63e-33. This might indicate that there are\n",
       "strong multicollinearity problems or that the design matrix is singular.\n",
       "\"\"\""
      ]
     },
     "execution_count": 114,
     "metadata": {},
     "output_type": "execute_result"
    }
   ],
   "source": [
    "df_test = df_test.rename(columns={'Seating Capacity': 'SeatingCapacity'})\n",
    "df_test = df_test.rename(columns={'Fuel Type': 'FuelType'})\n",
    "df_test['Transmission'] = df_test['Transmission'].map({'Manual': 1, 'Automatic': 0})\n",
    "results2 = smf.ols('Kilometer ~ Price + Year + SeatingCapacity + Transmission:FuelType',data = df_test).fit()\n",
    "results2.summary()"
   ]
  },
  {
   "cell_type": "code",
   "execution_count": 125,
   "metadata": {},
   "outputs": [
    {
     "data": {
      "text/plain": [
       "26260.777879259527"
      ]
     },
     "execution_count": 125,
     "metadata": {},
     "output_type": "execute_result"
    }
   ],
   "source": [
    "mean2 = results2.resid **2\n",
    "mean3 = mean2.mean()\n",
    "RMSE2 = math.sqrt(mean3)\n",
    "RMSE2"
   ]
  },
  {
   "cell_type": "markdown",
   "metadata": {},
   "source": [
    "Given that our RMSE is used to quantify the accuracy of the predictions made by the model, it is concerning how high both RMSEs are for the training and testing dataset. "
   ]
  },
  {
   "cell_type": "markdown",
   "metadata": {},
   "source": [
    "##### f. Finally, discuss how your approach and conclusions address your research questions."
   ]
  },
  {
   "cell_type": "markdown",
   "metadata": {},
   "source": [
    "Our original question was, \"What is the relationship between Fuel tank capacity and mileage after controlling for seating capacity, price, and year (both in the sample and in the underlying population)? How does my model perform on new data? Why this?\". We used our linear regression model to try and make predictions, and found that it's crucial to consider multiple factors when predicting mileage based on fuel tank capacity. Seating capacity, price, and year are sensible variables to control for, as they can all influence fuel efficiency. Additionally, examining the performance of the model on new data is essential to assess its generalization capability and reliability. The model should be used with precaution, as our low R$^2$ value and high RMSE indicate that our model isn't going to always going to give accurate predictions. "
   ]
  },
  {
   "cell_type": "markdown",
   "metadata": {},
   "source": [
    "## 3. Logistic Regression Analytical Tasks"
   ]
  },
  {
   "cell_type": "code",
   "execution_count": null,
   "metadata": {},
   "outputs": [],
   "source": []
  },
  {
   "cell_type": "code",
   "execution_count": null,
   "metadata": {},
   "outputs": [],
   "source": []
  },
  {
   "cell_type": "code",
   "execution_count": null,
   "metadata": {},
   "outputs": [],
   "source": []
  },
  {
   "cell_type": "code",
   "execution_count": null,
   "metadata": {},
   "outputs": [],
   "source": []
  },
  {
   "cell_type": "code",
   "execution_count": null,
   "metadata": {},
   "outputs": [],
   "source": []
  },
  {
   "cell_type": "code",
   "execution_count": null,
   "metadata": {},
   "outputs": [],
   "source": []
  },
  {
   "cell_type": "code",
   "execution_count": null,
   "metadata": {},
   "outputs": [],
   "source": []
  },
  {
   "cell_type": "code",
   "execution_count": null,
   "metadata": {},
   "outputs": [],
   "source": []
  },
  {
   "cell_type": "code",
   "execution_count": null,
   "metadata": {},
   "outputs": [],
   "source": []
  },
  {
   "cell_type": "code",
   "execution_count": null,
   "metadata": {},
   "outputs": [],
   "source": []
  },
  {
   "cell_type": "code",
   "execution_count": null,
   "metadata": {},
   "outputs": [],
   "source": []
  },
  {
   "cell_type": "markdown",
   "metadata": {},
   "source": [
    "## Any other type of analysis/question you want to explore with this dataset.\n",
    "\n",
    "<u>Why?</u>: Sometimes undergraduate students will put the research projects that they did for their classes on their resumes when applying for graduate schools, internships, and jobs. If you're interested in showcasing cool analyses to write on your resume, this section could help with that. **(This section is not worth any points though).**"
   ]
  },
  {
   "cell_type": "code",
   "execution_count": null,
   "metadata": {},
   "outputs": [],
   "source": []
  },
  {
   "cell_type": "code",
   "execution_count": null,
   "metadata": {},
   "outputs": [],
   "source": []
  },
  {
   "cell_type": "code",
   "execution_count": null,
   "metadata": {},
   "outputs": [],
   "source": []
  },
  {
   "cell_type": "code",
   "execution_count": null,
   "metadata": {},
   "outputs": [],
   "source": []
  },
  {
   "cell_type": "code",
   "execution_count": null,
   "metadata": {},
   "outputs": [],
   "source": []
  },
  {
   "cell_type": "code",
   "execution_count": null,
   "metadata": {},
   "outputs": [],
   "source": []
  },
  {
   "cell_type": "code",
   "execution_count": null,
   "metadata": {},
   "outputs": [],
   "source": []
  },
  {
   "cell_type": "code",
   "execution_count": null,
   "metadata": {},
   "outputs": [],
   "source": []
  },
  {
   "cell_type": "code",
   "execution_count": null,
   "metadata": {},
   "outputs": [],
   "source": []
  },
  {
   "cell_type": "markdown",
   "metadata": {},
   "source": [
    "## 4. Conclusion"
   ]
  },
  {
   "cell_type": "markdown",
   "metadata": {},
   "source": []
  }
 ],
 "metadata": {
  "kernelspec": {
   "display_name": "Python 3 (ipykernel)",
   "language": "python",
   "name": "python3"
  },
  "language_info": {
   "codemirror_mode": {
    "name": "ipython",
    "version": 3
   },
   "file_extension": ".py",
   "mimetype": "text/x-python",
   "name": "python",
   "nbconvert_exporter": "python",
   "pygments_lexer": "ipython3",
   "version": "3.11.7"
  }
 },
 "nbformat": 4,
 "nbformat_minor": 4
}
